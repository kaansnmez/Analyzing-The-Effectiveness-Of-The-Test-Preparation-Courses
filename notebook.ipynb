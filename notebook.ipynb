{
 "cells": [
  {
   "cell_type": "markdown",
   "id": "0743effe",
   "metadata": {
    "tags": []
   },
   "source": [
    "# ℹ️ Introduction to data science notebooks\n",
    "\n",
    "You can skip this section if you are already familiar with data science notebooks.\n",
    "\n",
    "## Data science notebooks\n",
    "A _data science notebook_ is a document that contains text cells (what you're reading right now) and code cells. What is unique with a notebook is that it's **interactive**: You can change or add code cells, and then **run** a cell by selecting it and then clicking the **Run** button above ( <strong>▶</strong>, or Run All ) or hitting `shift + enter`.\n",
    "\n",
    "The result will be displayed directly in the notebook. \n",
    "\n",
    "Try running the cell below:"
   ]
  },
  {
   "cell_type": "code",
   "execution_count": null,
   "id": "7e3543ec",
   "metadata": {},
   "outputs": [
    {
     "data": {
      "text/plain": [
       "2828.0"
      ]
     },
     "execution_count": 1,
     "metadata": {},
     "output_type": "execute_result"
    }
   ],
   "source": [
    "# Run this cell to see the result\n",
    "101 * 1.75 * 16"
   ]
  },
  {
   "cell_type": "markdown",
   "id": "95a7ffb5",
   "metadata": {},
   "source": [
    "Modify any of the numbers and rerun the cell."
   ]
  },
  {
   "cell_type": "markdown",
   "id": "4118f8a0",
   "metadata": {},
   "source": [
    "## Data science notebooks & data analysis\n",
    "Notebooks are great for interactive data analysis. Let's create a pandas DataFrame using the `read_csv()` function. \n",
    "\n",
    "We will load the dataset \"exams.csv\" containing year-end exam grades for a thousand students.\n",
    "\n",
    "By using the `head()` command, we display the first five rows of data:"
   ]
  },
  {
   "cell_type": "code",
   "execution_count": null,
   "id": "70a3b9bd",
   "metadata": {},
   "outputs": [
    {
     "data": {
      "text/html": [
       "<div>\n",
       "<style scoped>\n",
       "    .dataframe tbody tr th:only-of-type {\n",
       "        vertical-align: middle;\n",
       "    }\n",
       "\n",
       "    .dataframe tbody tr th {\n",
       "        vertical-align: top;\n",
       "    }\n",
       "\n",
       "    .dataframe thead th {\n",
       "        text-align: right;\n",
       "    }\n",
       "</style>\n",
       "<table border=\"1\" class=\"dataframe\">\n",
       "  <thead>\n",
       "    <tr style=\"text-align: right;\">\n",
       "      <th></th>\n",
       "      <th>gender</th>\n",
       "      <th>race/ethnicity</th>\n",
       "      <th>parent_education_level</th>\n",
       "      <th>lunch</th>\n",
       "      <th>test_prep_course</th>\n",
       "      <th>math</th>\n",
       "      <th>reading</th>\n",
       "      <th>writing</th>\n",
       "    </tr>\n",
       "  </thead>\n",
       "  <tbody>\n",
       "    <tr>\n",
       "      <th>0</th>\n",
       "      <td>female</td>\n",
       "      <td>group B</td>\n",
       "      <td>bachelor's degree</td>\n",
       "      <td>standard</td>\n",
       "      <td>none</td>\n",
       "      <td>72</td>\n",
       "      <td>72</td>\n",
       "      <td>74</td>\n",
       "    </tr>\n",
       "    <tr>\n",
       "      <th>1</th>\n",
       "      <td>female</td>\n",
       "      <td>group C</td>\n",
       "      <td>some college</td>\n",
       "      <td>standard</td>\n",
       "      <td>completed</td>\n",
       "      <td>69</td>\n",
       "      <td>90</td>\n",
       "      <td>88</td>\n",
       "    </tr>\n",
       "    <tr>\n",
       "      <th>2</th>\n",
       "      <td>female</td>\n",
       "      <td>group B</td>\n",
       "      <td>master's degree</td>\n",
       "      <td>standard</td>\n",
       "      <td>none</td>\n",
       "      <td>90</td>\n",
       "      <td>95</td>\n",
       "      <td>93</td>\n",
       "    </tr>\n",
       "    <tr>\n",
       "      <th>3</th>\n",
       "      <td>male</td>\n",
       "      <td>group A</td>\n",
       "      <td>associate's degree</td>\n",
       "      <td>free/reduced</td>\n",
       "      <td>none</td>\n",
       "      <td>47</td>\n",
       "      <td>57</td>\n",
       "      <td>44</td>\n",
       "    </tr>\n",
       "    <tr>\n",
       "      <th>4</th>\n",
       "      <td>male</td>\n",
       "      <td>group C</td>\n",
       "      <td>some college</td>\n",
       "      <td>standard</td>\n",
       "      <td>none</td>\n",
       "      <td>76</td>\n",
       "      <td>78</td>\n",
       "      <td>75</td>\n",
       "    </tr>\n",
       "  </tbody>\n",
       "</table>\n",
       "</div>"
      ],
      "text/plain": [
       "   gender race/ethnicity parent_education_level         lunch  \\\n",
       "0  female        group B      bachelor's degree      standard   \n",
       "1  female        group C           some college      standard   \n",
       "2  female        group B        master's degree      standard   \n",
       "3    male        group A     associate's degree  free/reduced   \n",
       "4    male        group C           some college      standard   \n",
       "\n",
       "  test_prep_course  math  reading  writing  \n",
       "0             none    72       72       74  \n",
       "1        completed    69       90       88  \n",
       "2             none    90       95       93  \n",
       "3             none    47       57       44  \n",
       "4             none    76       78       75  "
      ]
     },
     "execution_count": 1,
     "metadata": {},
     "output_type": "execute_result"
    }
   ],
   "source": [
    "# Importing the pandas module\n",
    "import pandas as pd\n",
    "\n",
    "# Reading in the data\n",
    "df = pd.read_csv('data/exams.csv')\n",
    "\n",
    "# Take a look at the first datapoints\n",
    "df.head()"
   ]
  },
  {
   "cell_type": "markdown",
   "id": "e284bdf0",
   "metadata": {},
   "source": [
    "## Data analysis example:\n",
    "\n",
    "Find the average reading score for each race/ethnicity group. \n",
    "\n",
    "We can use `groupby` to group the information by the column \"race/ethnicity\". Then we select the column \"reading\" and use `.mean()` to get the average grade for each group:"
   ]
  },
  {
   "cell_type": "code",
   "execution_count": null,
   "id": "5d4e35b9",
   "metadata": {},
   "outputs": [
    {
     "data": {
      "text/html": [
       "<div>\n",
       "<style scoped>\n",
       "    .dataframe tbody tr th:only-of-type {\n",
       "        vertical-align: middle;\n",
       "    }\n",
       "\n",
       "    .dataframe tbody tr th {\n",
       "        vertical-align: top;\n",
       "    }\n",
       "\n",
       "    .dataframe thead th {\n",
       "        text-align: right;\n",
       "    }\n",
       "</style>\n",
       "<table border=\"1\" class=\"dataframe\">\n",
       "  <thead>\n",
       "    <tr style=\"text-align: right;\">\n",
       "      <th></th>\n",
       "      <th>reading</th>\n",
       "    </tr>\n",
       "    <tr>\n",
       "      <th>race/ethnicity</th>\n",
       "      <th></th>\n",
       "    </tr>\n",
       "  </thead>\n",
       "  <tbody>\n",
       "    <tr>\n",
       "      <th>group A</th>\n",
       "      <td>64.674157</td>\n",
       "    </tr>\n",
       "    <tr>\n",
       "      <th>group B</th>\n",
       "      <td>67.352632</td>\n",
       "    </tr>\n",
       "    <tr>\n",
       "      <th>group C</th>\n",
       "      <td>69.103448</td>\n",
       "    </tr>\n",
       "    <tr>\n",
       "      <th>group D</th>\n",
       "      <td>70.030534</td>\n",
       "    </tr>\n",
       "    <tr>\n",
       "      <th>group E</th>\n",
       "      <td>73.028571</td>\n",
       "    </tr>\n",
       "  </tbody>\n",
       "</table>\n",
       "</div>"
      ],
      "text/plain": [
       "                  reading\n",
       "race/ethnicity           \n",
       "group A         64.674157\n",
       "group B         67.352632\n",
       "group C         69.103448\n",
       "group D         70.030534\n",
       "group E         73.028571"
      ]
     },
     "execution_count": 2,
     "metadata": {},
     "output_type": "execute_result"
    }
   ],
   "source": [
    "df.groupby('race/ethnicity')[['reading']].mean()"
   ]
  },
  {
   "cell_type": "markdown",
   "id": "79f08582",
   "metadata": {},
   "source": [
    "## Data science notebooks & visualizations\n",
    "Visualizations are very helpful to summarize data and gain insights. A well-crafted chart often conveys information much better than a table.\n",
    "\n",
    "It is very straightforward to include plots in a data science notebook. For example, let's look at the average writing score by lunch group and gender. \n",
    "\n",
    "We are using the `seaborn` library for this example. We will use the `catplot()` function on the data we want to display."
   ]
  },
  {
   "cell_type": "code",
   "execution_count": null,
   "id": "4f22ecb4",
   "metadata": {},
   "outputs": [
    {
     "data": {
      "image/png": "[encoded data removed]",
      "text/plain": [
       "<Figure size 720x360 with 2 Axes>"
      ]
     },
     "metadata": {
      "needs_background": "light"
     },
     "output_type": "display_data"
    }
   ],
   "source": [
    "import seaborn as sns\n",
    "\n",
    "sns.catplot(x='lunch', y='writing', col='gender', data=df, kind='bar');"
   ]
  },
  {
   "cell_type": "markdown",
   "id": "f8b70d12",
   "metadata": {},
   "source": [
    "# Analyzing exam scores\n",
    "\n",
    "Now let's now move on to the competition and challenge.\n",
    "\n",
    "## 📖 Background\n",
    "Your best friend is an administrator at a large school. The school makes every student take year-end math, reading, and writing exams.\n",
    "\n",
    "Since you have recently learned data manipulation and visualization, you suggest helping your friend analyze the score results. The school's principal wants to know if test preparation courses are helpful. She also wants to explore the effect of parental education level on test scores. "
   ]
  },
  {
   "cell_type": "markdown",
   "id": "bb4cd736",
   "metadata": {},
   "source": [
    "## 💾 The data\n",
    "\n",
    "#### The file has the following fields ([source](http://roycekimmons.com/tools/generated_data/exams)):\n",
    "- \"gender\" - male / female\n",
    "- \"race/ethnicity\" - one of 5 combinations of race/ethnicity\n",
    "- \"parent_education_level\" -  highest education level of either parent\n",
    "- \"lunch\" - whether the student receives free/reduced or standard lunch\n",
    "- \"test_prep_course\" - whether the student took the test preparation course\n",
    "- \"math\" -  exam score in math \n",
    "- \"reading\" -  exam score in reading \n",
    "- \"writing\" -  exam score in writing "
   ]
  },
  {
   "cell_type": "code",
   "execution_count": null,
   "id": "9e45e1f8",
   "metadata": {},
   "outputs": [
    {
     "data": {
      "text/html": [
       "<div>\n",
       "<style scoped>\n",
       "    .dataframe tbody tr th:only-of-type {\n",
       "        vertical-align: middle;\n",
       "    }\n",
       "\n",
       "    .dataframe tbody tr th {\n",
       "        vertical-align: top;\n",
       "    }\n",
       "\n",
       "    .dataframe thead th {\n",
       "        text-align: right;\n",
       "    }\n",
       "</style>\n",
       "<table border=\"1\" class=\"dataframe\">\n",
       "  <thead>\n",
       "    <tr style=\"text-align: right;\">\n",
       "      <th></th>\n",
       "      <th>gender</th>\n",
       "      <th>race/ethnicity</th>\n",
       "      <th>parent_education_level</th>\n",
       "      <th>lunch</th>\n",
       "      <th>test_prep_course</th>\n",
       "      <th>math</th>\n",
       "      <th>reading</th>\n",
       "      <th>writing</th>\n",
       "    </tr>\n",
       "  </thead>\n",
       "  <tbody>\n",
       "    <tr>\n",
       "      <th>0</th>\n",
       "      <td>female</td>\n",
       "      <td>group B</td>\n",
       "      <td>bachelor's degree</td>\n",
       "      <td>standard</td>\n",
       "      <td>none</td>\n",
       "      <td>72</td>\n",
       "      <td>72</td>\n",
       "      <td>74</td>\n",
       "    </tr>\n",
       "    <tr>\n",
       "      <th>1</th>\n",
       "      <td>female</td>\n",
       "      <td>group C</td>\n",
       "      <td>some college</td>\n",
       "      <td>standard</td>\n",
       "      <td>completed</td>\n",
       "      <td>69</td>\n",
       "      <td>90</td>\n",
       "      <td>88</td>\n",
       "    </tr>\n",
       "    <tr>\n",
       "      <th>2</th>\n",
       "      <td>female</td>\n",
       "      <td>group B</td>\n",
       "      <td>master's degree</td>\n",
       "      <td>standard</td>\n",
       "      <td>none</td>\n",
       "      <td>90</td>\n",
       "      <td>95</td>\n",
       "      <td>93</td>\n",
       "    </tr>\n",
       "    <tr>\n",
       "      <th>3</th>\n",
       "      <td>male</td>\n",
       "      <td>group A</td>\n",
       "      <td>associate's degree</td>\n",
       "      <td>free/reduced</td>\n",
       "      <td>none</td>\n",
       "      <td>47</td>\n",
       "      <td>57</td>\n",
       "      <td>44</td>\n",
       "    </tr>\n",
       "    <tr>\n",
       "      <th>4</th>\n",
       "      <td>male</td>\n",
       "      <td>group C</td>\n",
       "      <td>some college</td>\n",
       "      <td>standard</td>\n",
       "      <td>none</td>\n",
       "      <td>76</td>\n",
       "      <td>78</td>\n",
       "      <td>75</td>\n",
       "    </tr>\n",
       "  </tbody>\n",
       "</table>\n",
       "</div>"
      ],
      "text/plain": [
       "   gender race/ethnicity parent_education_level         lunch  \\\n",
       "0  female        group B      bachelor's degree      standard   \n",
       "1  female        group C           some college      standard   \n",
       "2  female        group B        master's degree      standard   \n",
       "3    male        group A     associate's degree  free/reduced   \n",
       "4    male        group C           some college      standard   \n",
       "\n",
       "  test_prep_course  math  reading  writing  \n",
       "0             none    72       72       74  \n",
       "1        completed    69       90       88  \n",
       "2             none    90       95       93  \n",
       "3             none    47       57       44  \n",
       "4             none    76       78       75  "
      ]
     },
     "execution_count": 4,
     "metadata": {},
     "output_type": "execute_result"
    }
   ],
   "source": [
    "df.head()"
   ]
  },
  {
   "cell_type": "markdown",
   "id": "6c0744d0",
   "metadata": {},
   "source": [
    "## 💪 Challenge\n",
    "Create a report to answer the principal's questions. Include:\n",
    "\n",
    "1. What are the average reading scores for students with/without the test preparation course?\n",
    "2. What are the average scores for the different parental education levels?\n",
    "3. Create plots to visualize findings for questions 1 and 2.\n",
    "4. [Optional] Look at the effects within subgroups. Compare the average scores for students with/without the test preparation course for different parental education levels (e.g., faceted plots).\n",
    "5. [Optional 2] The principal wants to know if kids who perform well on one subject also score well on the others. Look at the correlations between scores. \n",
    "6. Summarize your findings."
   ]
  },
  {
   "cell_type": "markdown",
   "id": "37e7101c-aa51-49e0-a4e4-0619374a44af",
   "metadata": {},
   "source": [
    "## 💡 Learn more\n",
    "\n",
    "The following DataCamp courses can help review the skills needed for this challenge:\n",
    "\n",
    "* [Data Manipulation with pandas](https://www.datacamp.com/courses/data-manipulation-with-pandas)\n",
    "* [Introduction to Data Visualization with Seaborn](https://www.datacamp.com/courses/introduction-to-data-visualization-with-seaborn)\n",
    "* [Introduction to Statistics in Python](https://www.datacamp.com/courses/introduction-to-statistics-in-python)"
   ]
  },
  {
   "cell_type": "markdown",
   "id": "fd227115",
   "metadata": {},
   "source": [
    "## ✅ Checklist before publishing\n",
    "- Rename your workspace to make it descriptive of your work. N.B. you should leave the notebook name as notebook.ipynb.\n",
    "- **Remove redundant cells** like the introduction to data science notebooks, so the workbook is focused on your story.\n",
    "- Check that all the cells run without error."
   ]
  },
  {
   "cell_type": "markdown",
   "id": "d21a86dd",
   "metadata": {},
   "source": [
    "## ⌛️ Time is ticking. Good luck!"
   ]
  },
  {
   "cell_type": "code",
   "execution_count": 2,
   "id": "2af88bc7",
   "metadata": {},
   "outputs": [
    {
     "data": {
      "application/com.datacamp.data-table.v1+json": {
       "is_truncated": false,
       "table": {
        "data": [
         {
          "gender": "female",
          "index": 0,
          "lunch": "standard",
          "math": 72,
          "parent_education_level": "bachelor's degree",
          "race/ethnicity": "group B",
          "reading": 72,
          "test_prep_course": "none",
          "writing": 74
         },
         {
          "gender": "female",
          "index": 1,
          "lunch": "standard",
          "math": 69,
          "parent_education_level": "some college",
          "race/ethnicity": "group C",
          "reading": 90,
          "test_prep_course": "completed",
          "writing": 88
         },
         {
          "gender": "female",
          "index": 2,
          "lunch": "standard",
          "math": 90,
          "parent_education_level": "master's degree",
          "race/ethnicity": "group B",
          "reading": 95,
          "test_prep_course": "none",
          "writing": 93
         },
         {
          "gender": "male",
          "index": 3,
          "lunch": "free/reduced",
          "math": 47,
          "parent_education_level": "associate's degree",
          "race/ethnicity": "group A",
          "reading": 57,
          "test_prep_course": "none",
          "writing": 44
         },
         {
          "gender": "male",
          "index": 4,
          "lunch": "standard",
          "math": 76,
          "parent_education_level": "some college",
          "race/ethnicity": "group C",
          "reading": 78,
          "test_prep_course": "none",
          "writing": 75
         }
        ],
        "schema": {
         "fields": [
          {
           "name": "index",
           "type": "integer"
          },
          {
           "name": "gender",
           "type": "string"
          },
          {
           "name": "race/ethnicity",
           "type": "string"
          },
          {
           "name": "parent_education_level",
           "type": "string"
          },
          {
           "name": "lunch",
           "type": "string"
          },
          {
           "name": "test_prep_course",
           "type": "string"
          },
          {
           "name": "math",
           "type": "integer"
          },
          {
           "name": "reading",
           "type": "integer"
          },
          {
           "name": "writing",
           "type": "integer"
          }
         ],
         "pandas_version": "0.20.0",
         "primaryKey": [
          "index"
         ]
        }
       }
      },
      "text/html": [
       "<div>\n",
       "<style scoped>\n",
       "    .dataframe tbody tr th:only-of-type {\n",
       "        vertical-align: middle;\n",
       "    }\n",
       "\n",
       "    .dataframe tbody tr th {\n",
       "        vertical-align: top;\n",
       "    }\n",
       "\n",
       "    .dataframe thead th {\n",
       "        text-align: right;\n",
       "    }\n",
       "</style>\n",
       "<table border=\"1\" class=\"dataframe\">\n",
       "  <thead>\n",
       "    <tr style=\"text-align: right;\">\n",
       "      <th></th>\n",
       "      <th>gender</th>\n",
       "      <th>race/ethnicity</th>\n",
       "      <th>parent_education_level</th>\n",
       "      <th>lunch</th>\n",
       "      <th>test_prep_course</th>\n",
       "      <th>math</th>\n",
       "      <th>reading</th>\n",
       "      <th>writing</th>\n",
       "    </tr>\n",
       "  </thead>\n",
       "  <tbody>\n",
       "    <tr>\n",
       "      <th>0</th>\n",
       "      <td>female</td>\n",
       "      <td>group B</td>\n",
       "      <td>bachelor's degree</td>\n",
       "      <td>standard</td>\n",
       "      <td>none</td>\n",
       "      <td>72</td>\n",
       "      <td>72</td>\n",
       "      <td>74</td>\n",
       "    </tr>\n",
       "    <tr>\n",
       "      <th>1</th>\n",
       "      <td>female</td>\n",
       "      <td>group C</td>\n",
       "      <td>some college</td>\n",
       "      <td>standard</td>\n",
       "      <td>completed</td>\n",
       "      <td>69</td>\n",
       "      <td>90</td>\n",
       "      <td>88</td>\n",
       "    </tr>\n",
       "    <tr>\n",
       "      <th>2</th>\n",
       "      <td>female</td>\n",
       "      <td>group B</td>\n",
       "      <td>master's degree</td>\n",
       "      <td>standard</td>\n",
       "      <td>none</td>\n",
       "      <td>90</td>\n",
       "      <td>95</td>\n",
       "      <td>93</td>\n",
       "    </tr>\n",
       "    <tr>\n",
       "      <th>3</th>\n",
       "      <td>male</td>\n",
       "      <td>group A</td>\n",
       "      <td>associate's degree</td>\n",
       "      <td>free/reduced</td>\n",
       "      <td>none</td>\n",
       "      <td>47</td>\n",
       "      <td>57</td>\n",
       "      <td>44</td>\n",
       "    </tr>\n",
       "    <tr>\n",
       "      <th>4</th>\n",
       "      <td>male</td>\n",
       "      <td>group C</td>\n",
       "      <td>some college</td>\n",
       "      <td>standard</td>\n",
       "      <td>none</td>\n",
       "      <td>76</td>\n",
       "      <td>78</td>\n",
       "      <td>75</td>\n",
       "    </tr>\n",
       "  </tbody>\n",
       "</table>\n",
       "</div>"
      ],
      "text/plain": [
       "   gender race/ethnicity parent_education_level         lunch  \\\n",
       "0  female        group B      bachelor's degree      standard   \n",
       "1  female        group C           some college      standard   \n",
       "2  female        group B        master's degree      standard   \n",
       "3    male        group A     associate's degree  free/reduced   \n",
       "4    male        group C           some college      standard   \n",
       "\n",
       "  test_prep_course  math  reading  writing  \n",
       "0             none    72       72       74  \n",
       "1        completed    69       90       88  \n",
       "2             none    90       95       93  \n",
       "3             none    47       57       44  \n",
       "4             none    76       78       75  "
      ]
     },
     "execution_count": 2,
     "metadata": {},
     "output_type": "execute_result"
    }
   ],
   "source": [
    "import pandas as pd\n",
    "import matplotlib.pyplot as plt\n",
    "import seaborn as sns\n",
    "import numpy as np\n",
    "\n",
    "\n",
    "df=pd.read_csv(\"data/exams.csv\")\n",
    "df.head()"
   ]
  },
  {
   "cell_type": "code",
   "execution_count": 3,
   "id": "bd64d183-85f1-42ad-b7b0-6d8c99898681",
   "metadata": {},
   "outputs": [
    {
     "name": "stdout",
     "output_type": "stream",
     "text": [
      "gender                    0\n",
      "race/ethnicity            0\n",
      "parent_education_level    0\n",
      "lunch                     0\n",
      "test_prep_course          0\n",
      "math                      0\n",
      "reading                   0\n",
      "writing                   0\n",
      "dtype: int64\n"
     ]
    }
   ],
   "source": [
    "#See dtypes\n",
    "df.dtypes\n",
    "#Check Null Values\n",
    "print(pd.isnull(df).sum())"
   ]
  },
  {
   "cell_type": "code",
   "execution_count": 4,
   "id": "e810f5b7-0b51-48aa-b880-38e1b058c392",
   "metadata": {},
   "outputs": [
    {
     "name": "stdout",
     "output_type": "stream",
     "text": [
      "  test_prep_course  gender    reading\n",
      "0        completed  female  77.375000\n",
      "1        completed    male  70.212644\n",
      "2             none  female  69.982036\n",
      "3             none    male  62.795455\n"
     ]
    },
    {
     "data": {
      "text/plain": [
       "<seaborn.axisgrid.FacetGrid at 0x7f510479c8b0>"
      ]
     },
     "execution_count": 4,
     "metadata": {},
     "output_type": "execute_result"
    },
    {
     "data": {
      "image/png": "[encoded data removed]",
      "text/plain": [
       "<Figure size 720x360 with 2 Axes>"
      ]
     },
     "metadata": {
      "needs_background": "light"
     },
     "output_type": "display_data"
    }
   ],
   "source": [
    "# What are the average reading scores for students with/without the test preparation course?\n",
    "df_avgTestprepcourse=df.groupby(['test_prep_course','gender'],as_index=False)['reading'].mean()\n",
    "print(df_avgTestprepcourse)\n",
    "# Bar chart comparison\n",
    "sns.catplot(data=df_avgTestprepcourse,kind=\"bar\",y=\"test_prep_course\",x=\"reading\",col=\"gender\")"
   ]
  },
  {
   "cell_type": "code",
   "execution_count": 7,
   "id": "dc275ba5-f6bc-4428-9be7-b66b1b9da3e0",
   "metadata": {},
   "outputs": [
    {
     "name": "stdout",
     "output_type": "stream",
     "text": [
      "[\"associate's degree\" \"bachelor's degree\" 'high school' \"master's degree\"\n",
      " 'some college' 'some high school']\n",
      "  parent_education_level       math    reading    writing\n",
      "0     associate's degree  67.882883  70.927928  69.896396\n",
      "1      bachelor's degree  69.389831  73.000000  73.381356\n",
      "2            high school  62.137755  64.704082  62.448980\n",
      "3        master's degree  69.745763  75.372881  75.677966\n",
      "4           some college  67.128319  69.460177  68.840708\n",
      "5       some high school  63.497207  66.938547  64.888268\n"
     ]
    },
    {
     "data": {
      "image/png": "[encoded data removed]",
      "text/plain": [
       "<Figure size 1332x756 with 1 Axes>"
      ]
     },
     "metadata": {
      "needs_background": "light"
     },
     "output_type": "display_data"
    }
   ],
   "source": [
    "#What are the average scores for the different parental education levels?\n",
    "\n",
    "\n",
    "df_avgParentalEd=df.groupby(['parent_education_level'],as_index=False)['math','reading','writing'].mean()\n",
    "print(df_avgParentalEd['parent_education_level'].unique())\n",
    "print(df_avgParentalEd)\n",
    "\n",
    "# Bar chart comparison\n",
    "fig,ax=plt.subplots()\n",
    "ax.bar(df_avgParentalEd['parent_education_level'],df_avgParentalEd['writing'],label='Writing')\n",
    "ax.bar(df_avgParentalEd['parent_education_level'],df_avgParentalEd['reading'],label='Reading')\n",
    "ax.bar(df_avgParentalEd['parent_education_level'],df_avgParentalEd.math,label='Math')\n",
    "ax.set_xticklabels(df_avgParentalEd['parent_education_level'],rotation=90)\n",
    "ax.set_ylim([61,80])\n",
    "ax.set_ylabel(\"Avarage Scores\")\n",
    "ax.legend()\n",
    "fig.set_size_inches(18.5, 10.5)\n",
    "fig.savefig('test2png.png', dpi=100)\n",
    "\n",
    "#Those with 'Parent Education Level' High School have clear differences in the average score by Master's degree."
   ]
  },
  {
   "cell_type": "code",
   "execution_count": null,
   "id": "699613de-2352-4f24-9395-f50d84e3b789",
   "metadata": {},
   "outputs": [],
   "source": [
    "\n"
   ]
  },
  {
   "cell_type": "code",
   "execution_count": 8,
   "id": "bc67ad93-5d4f-4e68-9b51-ebba395868cc",
   "metadata": {},
   "outputs": [
    {
     "name": "stdout",
     "output_type": "stream",
     "text": [
      "   parent_education_level test_prep_course  gender       math    reading  \\\n",
      "0      associate's degree        completed  female  70.047619  79.714286   \n",
      "1      associate's degree        completed    male  73.700000  72.450000   \n",
      "2      associate's degree             none  female  62.527027  70.945946   \n",
      "3      associate's degree             none    male  68.984848  64.393939   \n",
      "4       bachelor's degree        completed  female  71.000000  80.681818   \n",
      "5       bachelor's degree        completed    male  75.375000  73.125000   \n",
      "6       bachelor's degree             none  female  66.926829  75.463415   \n",
      "7       bachelor's degree             none    male  66.870968  64.193548   \n",
      "8             high school        completed  female  61.896552  71.241379   \n",
      "9             high school        completed    male  68.333333  64.185185   \n",
      "10            high school             none  female  58.215385  66.846154   \n",
      "11            high school             none    male  63.400000  60.506667   \n",
      "12        master's degree        completed  female  69.857143  81.285714   \n",
      "13        master's degree        completed    male  72.333333  71.166667   \n",
      "14        master's degree             none  female  64.363636  73.954545   \n",
      "15        master's degree             none    male  75.705882  73.823529   \n",
      "16           some college        completed  female  67.928571  78.261905   \n",
      "17           some college        completed    male  75.685714  73.257143   \n",
      "18           some college             none  female  64.013158  70.947368   \n",
      "19           some college             none    male  65.808219  61.027397   \n",
      "20       some high school        completed  female  63.828571  74.942857   \n",
      "21       some high school        completed    male  69.095238  67.619048   \n",
      "22       some high school             none  female  56.464286  65.464286   \n",
      "23       some high school             none    male  66.695652  62.021739   \n",
      "\n",
      "      writing  \n",
      "0   81.738095  \n",
      "1   71.650000  \n",
      "2   69.608108  \n",
      "3   61.621212  \n",
      "4   83.000000  \n",
      "5   74.750000  \n",
      "6   75.902439  \n",
      "7   62.161290  \n",
      "8   72.379310  \n",
      "9   63.407407  \n",
      "10  64.153846  \n",
      "11  56.786667  \n",
      "12  82.785714  \n",
      "13  73.833333  \n",
      "14  74.363636  \n",
      "15  72.176471  \n",
      "16  79.500000  \n",
      "17  72.942857  \n",
      "18  71.039474  \n",
      "19  58.452055  \n",
      "20  75.485714  \n",
      "21  66.095238  \n",
      "22  63.785714  \n",
      "23  57.065217  \n"
     ]
    }
   ],
   "source": [
    "df_avgParentalEdAndTest=df.groupby(['parent_education_level','test_prep_course','gender'],as_index=False)['math','reading','writing'].mean()\n",
    "print(df_avgParentalEdAndTest)"
   ]
  },
  {
   "cell_type": "code",
   "execution_count": 10,
   "id": "7f214ace-f404-4d13-8078-83294913927b",
   "metadata": {},
   "outputs": [
    {
     "data": {
      "image/png": "[encoded data removed]",
      "text/plain": [
       "<Figure size 1332x756 with 18 Axes>"
      ]
     },
     "metadata": {
      "needs_background": "light"
     },
     "output_type": "display_data"
    }
   ],
   "source": [
    "def graph(df,x,y,col,hue):\n",
    "    fig=plt.figure()\n",
    "    fig.suptitle(\"Parent Education Level\")\n",
    "    fig.set_size_inches(18.5, 10.5)\n",
    "    for j,wo in enumerate(y,start=1):\n",
    "        for n,val in enumerate(df[col].unique(),start=0):\n",
    "            c=plt.subplot(3,6,(6*j)-n)\n",
    "            plt.ylim([55,85])\n",
    "            \n",
    "            f=sns.barplot(df.loc[df[col]==val,x],df.loc[df[col]==val,wo],data=df,hue=hue)\n",
    "            if j==3:\n",
    "                f.set(xticks=[0,1])\n",
    "                f.set_xticklabels([\"Completed\",\"None\"])\n",
    "            else:\n",
    "                f.set(xticks=[0,1])\n",
    "                f.set_xticklabels([\" \",\" \"])\n",
    "            if j==1:\n",
    "                f.set_title(val)\n",
    "            else: f.set_title(\"\")\n",
    "            f.set(xlabel='')\n",
    "            if n==5:\n",
    "                f.set(ylabel=wo)\n",
    "            else: \n",
    "                f.set(ylabel='')\n",
    "            legend=f.get_legend()\n",
    "            handles=legend.legendHandles\n",
    "            legend.remove()\n",
    "    fig.legend(handles,['Female','Male'],loc='upper right',ncol=len(df[hue].unique()),bbox_transform=fig.transFigure,labelcolor=[\"#3274a1\",\"#e1812c\"])\n",
    "                \n",
    "    plt.show()\n",
    "graph(df_avgParentalEdAndTest,'test_prep_course',['math','reading','writing'],'parent_education_level','gender')\n",
    "\n",
    "#It was observed that men achieved higher scores than women in the 'Math' Results in all 'Parent Education Level' variables and scored /\n",
    "#lower in other exams.\n"
   ]
  },
  {
   "cell_type": "code",
   "execution_count": 11,
   "id": "380c5482-aa20-488d-85fb-3b8ebeaaecb6",
   "metadata": {},
   "outputs": [
    {
     "data": {
      "text/plain": [
       "<AxesSubplot:>"
      ]
     },
     "execution_count": 11,
     "metadata": {},
     "output_type": "execute_result"
    },
    {
     "data": {
      "image/png": "[encoded data removed]",
      "text/plain": [
       "<Figure size 432x288 with 2 Axes>"
      ]
     },
     "metadata": {
      "needs_background": "light"
     },
     "output_type": "display_data"
    }
   ],
   "source": [
    "#The principal wants to know if kids who perform well on one subject also score well on the others. Look at the correlations between scores.\n",
    "\n",
    "sns.heatmap(df_avgParentalEdAndTest[['math','reading','writing']].corr(),annot=True,cmap='YlGnBu',cbar=True)\n",
    "\n",
    "#According to the correlation, it is seen that the 'writing' and 'reading' columns are directly related to each other.\n",
    "\n",
    "        \n",
    "    "
   ]
  },
  {
   "cell_type": "code",
   "execution_count": null,
   "id": "c9a2910b-3ac8-40de-a9a5-dd69f43107a2",
   "metadata": {},
   "outputs": [],
   "source": []
  },
  {
   "cell_type": "code",
   "execution_count": null,
   "id": "ee1c7357-e415-479d-83a2-9cb89e0b769e",
   "metadata": {},
   "outputs": [],
   "source": []
  },
  {
   "cell_type": "code",
   "execution_count": null,
   "id": "40e2beb3-05f5-414c-882c-b7cef8997edb",
   "metadata": {},
   "outputs": [],
   "source": []
  },
  {
   "cell_type": "code",
   "execution_count": null,
   "id": "2254e462-041a-499b-a889-74d6a1f71f87",
   "metadata": {},
   "outputs": [],
   "source": []
  }
 ],
 "metadata": {
  "kernelspec": {
   "display_name": "Python 3 (ipykernel)",
   "language": "python",
   "name": "python3"
  },
  "language_info": {
   "codemirror_mode": {
    "name": "ipython",
    "version": 3
   },
   "file_extension": ".py",
   "mimetype": "text/x-python",
   "name": "python",
   "nbconvert_exporter": "python",
   "pygments_lexer": "ipython3",
   "version": "3.8.10"
  }
 },
 "nbformat": 4,
 "nbformat_minor": 5
}
